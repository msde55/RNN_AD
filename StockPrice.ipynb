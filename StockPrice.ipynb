{
 "cells": [
  {
   "cell_type": "code",
   "execution_count": 1,
   "metadata": {},
   "outputs": [],
   "source": [
    "import numpy as np\n",
    "import matplotlib.pyplot as plt\n",
    "import pandas as pd"
   ]
  },
  {
   "cell_type": "markdown",
   "metadata": {},
   "source": [
    "# Data Preprocessing"
   ]
  },
  {
   "cell_type": "code",
   "execution_count": 2,
   "metadata": {},
   "outputs": [],
   "source": [
    "dataset_train = pd.read_csv(\"Google_Stock_Price_Train.csv\")"
   ]
  },
  {
   "cell_type": "code",
   "execution_count": 3,
   "metadata": {},
   "outputs": [
    {
     "data": {
      "text/html": [
       "<div>\n",
       "<style scoped>\n",
       "    .dataframe tbody tr th:only-of-type {\n",
       "        vertical-align: middle;\n",
       "    }\n",
       "\n",
       "    .dataframe tbody tr th {\n",
       "        vertical-align: top;\n",
       "    }\n",
       "\n",
       "    .dataframe thead th {\n",
       "        text-align: right;\n",
       "    }\n",
       "</style>\n",
       "<table border=\"1\" class=\"dataframe\">\n",
       "  <thead>\n",
       "    <tr style=\"text-align: right;\">\n",
       "      <th></th>\n",
       "      <th>Date</th>\n",
       "      <th>Open</th>\n",
       "      <th>High</th>\n",
       "      <th>Low</th>\n",
       "      <th>Close</th>\n",
       "      <th>Volume</th>\n",
       "    </tr>\n",
       "  </thead>\n",
       "  <tbody>\n",
       "    <tr>\n",
       "      <th>0</th>\n",
       "      <td>1/3/2012</td>\n",
       "      <td>325.25</td>\n",
       "      <td>332.83</td>\n",
       "      <td>324.97</td>\n",
       "      <td>663.59</td>\n",
       "      <td>7,380,500</td>\n",
       "    </tr>\n",
       "    <tr>\n",
       "      <th>1</th>\n",
       "      <td>1/4/2012</td>\n",
       "      <td>331.27</td>\n",
       "      <td>333.87</td>\n",
       "      <td>329.08</td>\n",
       "      <td>666.45</td>\n",
       "      <td>5,749,400</td>\n",
       "    </tr>\n",
       "    <tr>\n",
       "      <th>2</th>\n",
       "      <td>1/5/2012</td>\n",
       "      <td>329.83</td>\n",
       "      <td>330.75</td>\n",
       "      <td>326.89</td>\n",
       "      <td>657.21</td>\n",
       "      <td>6,590,300</td>\n",
       "    </tr>\n",
       "    <tr>\n",
       "      <th>3</th>\n",
       "      <td>1/6/2012</td>\n",
       "      <td>328.34</td>\n",
       "      <td>328.77</td>\n",
       "      <td>323.68</td>\n",
       "      <td>648.24</td>\n",
       "      <td>5,405,900</td>\n",
       "    </tr>\n",
       "    <tr>\n",
       "      <th>4</th>\n",
       "      <td>1/9/2012</td>\n",
       "      <td>322.04</td>\n",
       "      <td>322.29</td>\n",
       "      <td>309.46</td>\n",
       "      <td>620.76</td>\n",
       "      <td>11,688,800</td>\n",
       "    </tr>\n",
       "    <tr>\n",
       "      <th>...</th>\n",
       "      <td>...</td>\n",
       "      <td>...</td>\n",
       "      <td>...</td>\n",
       "      <td>...</td>\n",
       "      <td>...</td>\n",
       "      <td>...</td>\n",
       "    </tr>\n",
       "    <tr>\n",
       "      <th>1253</th>\n",
       "      <td>12/23/2016</td>\n",
       "      <td>790.90</td>\n",
       "      <td>792.74</td>\n",
       "      <td>787.28</td>\n",
       "      <td>789.91</td>\n",
       "      <td>623,400</td>\n",
       "    </tr>\n",
       "    <tr>\n",
       "      <th>1254</th>\n",
       "      <td>12/27/2016</td>\n",
       "      <td>790.68</td>\n",
       "      <td>797.86</td>\n",
       "      <td>787.66</td>\n",
       "      <td>791.55</td>\n",
       "      <td>789,100</td>\n",
       "    </tr>\n",
       "    <tr>\n",
       "      <th>1255</th>\n",
       "      <td>12/28/2016</td>\n",
       "      <td>793.70</td>\n",
       "      <td>794.23</td>\n",
       "      <td>783.20</td>\n",
       "      <td>785.05</td>\n",
       "      <td>1,153,800</td>\n",
       "    </tr>\n",
       "    <tr>\n",
       "      <th>1256</th>\n",
       "      <td>12/29/2016</td>\n",
       "      <td>783.33</td>\n",
       "      <td>785.93</td>\n",
       "      <td>778.92</td>\n",
       "      <td>782.79</td>\n",
       "      <td>744,300</td>\n",
       "    </tr>\n",
       "    <tr>\n",
       "      <th>1257</th>\n",
       "      <td>12/30/2016</td>\n",
       "      <td>782.75</td>\n",
       "      <td>782.78</td>\n",
       "      <td>770.41</td>\n",
       "      <td>771.82</td>\n",
       "      <td>1,770,000</td>\n",
       "    </tr>\n",
       "  </tbody>\n",
       "</table>\n",
       "<p>1258 rows × 6 columns</p>\n",
       "</div>"
      ],
      "text/plain": [
       "            Date    Open    High     Low   Close      Volume\n",
       "0       1/3/2012  325.25  332.83  324.97  663.59   7,380,500\n",
       "1       1/4/2012  331.27  333.87  329.08  666.45   5,749,400\n",
       "2       1/5/2012  329.83  330.75  326.89  657.21   6,590,300\n",
       "3       1/6/2012  328.34  328.77  323.68  648.24   5,405,900\n",
       "4       1/9/2012  322.04  322.29  309.46  620.76  11,688,800\n",
       "...          ...     ...     ...     ...     ...         ...\n",
       "1253  12/23/2016  790.90  792.74  787.28  789.91     623,400\n",
       "1254  12/27/2016  790.68  797.86  787.66  791.55     789,100\n",
       "1255  12/28/2016  793.70  794.23  783.20  785.05   1,153,800\n",
       "1256  12/29/2016  783.33  785.93  778.92  782.79     744,300\n",
       "1257  12/30/2016  782.75  782.78  770.41  771.82   1,770,000\n",
       "\n",
       "[1258 rows x 6 columns]"
      ]
     },
     "execution_count": 3,
     "metadata": {},
     "output_type": "execute_result"
    }
   ],
   "source": [
    "dataset_train"
   ]
  },
  {
   "cell_type": "code",
   "execution_count": 4,
   "metadata": {},
   "outputs": [],
   "source": [
    "training_set = dataset_train.iloc[:, 1:2].values"
   ]
  },
  {
   "cell_type": "markdown",
   "metadata": {},
   "source": [
    "Feature Scaling"
   ]
  },
  {
   "cell_type": "code",
   "execution_count": 5,
   "metadata": {},
   "outputs": [],
   "source": [
    "from sklearn.preprocessing import MinMaxScaler\n",
    "sc = MinMaxScaler()\n",
    "training_set_scaled = sc.fit_transform(training_set)"
   ]
  },
  {
   "cell_type": "markdown",
   "metadata": {},
   "source": [
    "Create a data structure with 60 timesteps and 1 output"
   ]
  },
  {
   "cell_type": "code",
   "execution_count": 6,
   "metadata": {},
   "outputs": [],
   "source": [
    "X_train = []\n",
    "Y_train = []\n",
    "for i in range(60,1258):\n",
    "        X_train.append(training_set_scaled[i-60:i,0])\n",
    "        Y_train.append(training_set_scaled[i,0])"
   ]
  },
  {
   "cell_type": "code",
   "execution_count": 7,
   "metadata": {},
   "outputs": [],
   "source": [
    "X_train,Y_train = np.array(X_train),np.array(Y_train)"
   ]
  },
  {
   "cell_type": "code",
   "execution_count": 8,
   "metadata": {},
   "outputs": [
    {
     "data": {
      "text/plain": [
       "(array([[0.08581368, 0.09701243, 0.09433366, ..., 0.07846566, 0.08034452,\n",
       "         0.08497656],\n",
       "        [0.09701243, 0.09433366, 0.09156187, ..., 0.08034452, 0.08497656,\n",
       "         0.08627874],\n",
       "        [0.09433366, 0.09156187, 0.07984225, ..., 0.08497656, 0.08627874,\n",
       "         0.08471612],\n",
       "        ...,\n",
       "        [0.92106928, 0.92438053, 0.93048218, ..., 0.95475854, 0.95204256,\n",
       "         0.95163331],\n",
       "        [0.92438053, 0.93048218, 0.9299055 , ..., 0.95204256, 0.95163331,\n",
       "         0.95725128],\n",
       "        [0.93048218, 0.9299055 , 0.93113327, ..., 0.95163331, 0.95725128,\n",
       "         0.93796041]]),\n",
       " array([0.08627874, 0.08471612, 0.07454052, ..., 0.95725128, 0.93796041,\n",
       "        0.93688146]))"
      ]
     },
     "execution_count": 8,
     "metadata": {},
     "output_type": "execute_result"
    }
   ],
   "source": [
    "X_train,Y_train "
   ]
  },
  {
   "cell_type": "markdown",
   "metadata": {},
   "source": [
    "Reshaping - Add dimension incase we want to add more dimensionality later"
   ]
  },
  {
   "cell_type": "code",
   "execution_count": 9,
   "metadata": {},
   "outputs": [],
   "source": [
    "X_train = np.reshape(X_train,(X_train.shape[0], X_train.shape[1],1))"
   ]
  },
  {
   "cell_type": "markdown",
   "metadata": {},
   "source": [
    "# Building RNN "
   ]
  },
  {
   "cell_type": "code",
   "execution_count": 10,
   "metadata": {},
   "outputs": [],
   "source": [
    "from keras.models import Sequential\n",
    "from keras.layers import LSTM\n",
    "from keras.layers import Dropout\n",
    "from keras.layers import Dense"
   ]
  },
  {
   "cell_type": "code",
   "execution_count": 11,
   "metadata": {},
   "outputs": [],
   "source": [
    "RNN = Sequential()"
   ]
  },
  {
   "cell_type": "markdown",
   "metadata": {},
   "source": [
    "1st LSTM Layer and Dropout Regularization"
   ]
  },
  {
   "cell_type": "code",
   "execution_count": 12,
   "metadata": {},
   "outputs": [],
   "source": [
    "RNN.add(LSTM(units = 50, return_sequences = True, input_shape = (X_train.shape[1], 1)))\n",
    "RNN.add(Dropout(0.2))"
   ]
  },
  {
   "cell_type": "markdown",
   "metadata": {},
   "source": [
    "2nd LSTM Layer and Dropout Regularization"
   ]
  },
  {
   "cell_type": "code",
   "execution_count": 13,
   "metadata": {},
   "outputs": [],
   "source": [
    "RNN.add(LSTM(units = 50, return_sequences = True))\n",
    "RNN.add(Dropout(0.2))"
   ]
  },
  {
   "cell_type": "markdown",
   "metadata": {},
   "source": [
    "3rd LSTM Layer and Dropout Regularization"
   ]
  },
  {
   "cell_type": "code",
   "execution_count": 14,
   "metadata": {},
   "outputs": [],
   "source": [
    "RNN.add(LSTM(units = 50, return_sequences = True))\n",
    "RNN.add(Dropout(0.2))"
   ]
  },
  {
   "cell_type": "markdown",
   "metadata": {},
   "source": [
    "4th LSTM Layer and Dropout Regularization"
   ]
  },
  {
   "cell_type": "code",
   "execution_count": 15,
   "metadata": {},
   "outputs": [],
   "source": [
    "RNN.add(LSTM(units = 50))\n",
    "RNN.add(Dropout(0.2))"
   ]
  },
  {
   "cell_type": "markdown",
   "metadata": {},
   "source": [
    "Output Layer"
   ]
  },
  {
   "cell_type": "code",
   "execution_count": 16,
   "metadata": {},
   "outputs": [],
   "source": [
    "RNN.add(Dense(units = 1))"
   ]
  },
  {
   "cell_type": "code",
   "execution_count": 17,
   "metadata": {},
   "outputs": [],
   "source": [
    "RNN.compile(optimizer = 'adam', loss = 'mean_squared_error')"
   ]
  },
  {
   "cell_type": "markdown",
   "metadata": {},
   "source": [
    "No Convergence in 25, 50 epochs. "
   ]
  },
  {
   "cell_type": "code",
   "execution_count": 18,
   "metadata": {},
   "outputs": [
    {
     "name": "stdout",
     "output_type": "stream",
     "text": [
      "Epoch 1/100\n",
      "38/38 [==============================] - 6s 43ms/step - loss: 0.0432\n",
      "Epoch 2/100\n",
      "38/38 [==============================] - 2s 41ms/step - loss: 0.0061\n",
      "Epoch 3/100\n",
      "38/38 [==============================] - 2s 42ms/step - loss: 0.0059\n",
      "Epoch 4/100\n",
      "38/38 [==============================] - 2s 41ms/step - loss: 0.0055\n",
      "Epoch 5/100\n",
      "38/38 [==============================] - 2s 40ms/step - loss: 0.0052\n",
      "Epoch 6/100\n",
      "38/38 [==============================] - 2s 41ms/step - loss: 0.0050\n",
      "Epoch 7/100\n",
      "38/38 [==============================] - 1s 39ms/step - loss: 0.0047\n",
      "Epoch 8/100\n",
      "38/38 [==============================] - 2s 41ms/step - loss: 0.0048\n",
      "Epoch 9/100\n",
      "38/38 [==============================] - 2s 41ms/step - loss: 0.0048\n",
      "Epoch 10/100\n",
      "38/38 [==============================] - 2s 41ms/step - loss: 0.0047\n",
      "Epoch 11/100\n",
      "38/38 [==============================] - 2s 41ms/step - loss: 0.0045\n",
      "Epoch 12/100\n",
      "38/38 [==============================] - 2s 41ms/step - loss: 0.0040\n",
      "Epoch 13/100\n",
      "38/38 [==============================] - 2s 40ms/step - loss: 0.0040\n",
      "Epoch 14/100\n",
      "38/38 [==============================] - 2s 41ms/step - loss: 0.0041\n",
      "Epoch 15/100\n",
      "38/38 [==============================] - 2s 41ms/step - loss: 0.0039\n",
      "Epoch 16/100\n",
      "38/38 [==============================] - 2s 41ms/step - loss: 0.0039\n",
      "Epoch 17/100\n",
      "38/38 [==============================] - 2s 40ms/step - loss: 0.0041\n",
      "Epoch 18/100\n",
      "38/38 [==============================] - 2s 39ms/step - loss: 0.0035\n",
      "Epoch 19/100\n",
      "38/38 [==============================] - 2s 41ms/step - loss: 0.0035\n",
      "Epoch 20/100\n",
      "38/38 [==============================] - 2s 41ms/step - loss: 0.0032\n",
      "Epoch 21/100\n",
      "38/38 [==============================] - 2s 42ms/step - loss: 0.0033\n",
      "Epoch 22/100\n",
      "38/38 [==============================] - 2s 41ms/step - loss: 0.0037\n",
      "Epoch 23/100\n",
      "38/38 [==============================] - 2s 43ms/step - loss: 0.0036\n",
      "Epoch 24/100\n",
      "38/38 [==============================] - 2s 43ms/step - loss: 0.0035\n",
      "Epoch 25/100\n",
      "38/38 [==============================] - 2s 42ms/step - loss: 0.0038\n",
      "Epoch 26/100\n",
      "38/38 [==============================] - 2s 43ms/step - loss: 0.0036\n",
      "Epoch 27/100\n",
      "38/38 [==============================] - 2s 43ms/step - loss: 0.0031\n",
      "Epoch 28/100\n",
      "38/38 [==============================] - 2s 43ms/step - loss: 0.0029\n",
      "Epoch 29/100\n",
      "38/38 [==============================] - 2s 43ms/step - loss: 0.0030\n",
      "Epoch 30/100\n",
      "38/38 [==============================] - 2s 43ms/step - loss: 0.0034\n",
      "Epoch 31/100\n",
      "38/38 [==============================] - 2s 43ms/step - loss: 0.0030\n",
      "Epoch 32/100\n",
      "38/38 [==============================] - 2s 42ms/step - loss: 0.0028\n",
      "Epoch 33/100\n",
      "38/38 [==============================] - 2s 41ms/step - loss: 0.0027\n",
      "Epoch 34/100\n",
      "38/38 [==============================] - 2s 41ms/step - loss: 0.0030\n",
      "Epoch 35/100\n",
      "38/38 [==============================] - 2s 41ms/step - loss: 0.0027\n",
      "Epoch 36/100\n",
      "38/38 [==============================] - 2s 39ms/step - loss: 0.0030\n",
      "Epoch 37/100\n",
      "38/38 [==============================] - 2s 41ms/step - loss: 0.0026\n",
      "Epoch 38/100\n",
      "38/38 [==============================] - 2s 42ms/step - loss: 0.0026\n",
      "Epoch 39/100\n",
      "38/38 [==============================] - 2s 40ms/step - loss: 0.0025\n",
      "Epoch 40/100\n",
      "38/38 [==============================] - 2s 40ms/step - loss: 0.0029\n",
      "Epoch 41/100\n",
      "38/38 [==============================] - 2s 42ms/step - loss: 0.0026\n",
      "Epoch 42/100\n",
      "38/38 [==============================] - 2s 41ms/step - loss: 0.0030\n",
      "Epoch 43/100\n",
      "38/38 [==============================] - 2s 40ms/step - loss: 0.0027\n",
      "Epoch 44/100\n",
      "38/38 [==============================] - 2s 40ms/step - loss: 0.0025\n",
      "Epoch 45/100\n",
      "38/38 [==============================] - 2s 40ms/step - loss: 0.0025\n",
      "Epoch 46/100\n",
      "38/38 [==============================] - 2s 43ms/step - loss: 0.0029\n",
      "Epoch 47/100\n",
      "38/38 [==============================] - 2s 42ms/step - loss: 0.0024\n",
      "Epoch 48/100\n",
      "38/38 [==============================] - 2s 44ms/step - loss: 0.0024\n",
      "Epoch 49/100\n",
      "38/38 [==============================] - 2s 44ms/step - loss: 0.0026\n",
      "Epoch 50/100\n",
      "38/38 [==============================] - 2s 42ms/step - loss: 0.0022\n",
      "Epoch 51/100\n",
      "38/38 [==============================] - 2s 43ms/step - loss: 0.0025\n",
      "Epoch 52/100\n",
      "38/38 [==============================] - 2s 43ms/step - loss: 0.0022\n",
      "Epoch 53/100\n",
      "38/38 [==============================] - 2s 43ms/step - loss: 0.0023\n",
      "Epoch 54/100\n",
      "38/38 [==============================] - 2s 43ms/step - loss: 0.0023\n",
      "Epoch 55/100\n",
      "38/38 [==============================] - 2s 41ms/step - loss: 0.0024\n",
      "Epoch 56/100\n",
      "38/38 [==============================] - 2s 43ms/step - loss: 0.0021\n",
      "Epoch 57/100\n",
      "38/38 [==============================] - 2s 43ms/step - loss: 0.0022\n",
      "Epoch 58/100\n",
      "38/38 [==============================] - 2s 42ms/step - loss: 0.0021\n",
      "Epoch 59/100\n",
      "38/38 [==============================] - 2s 41ms/step - loss: 0.0019\n",
      "Epoch 60/100\n",
      "38/38 [==============================] - 2s 41ms/step - loss: 0.0022\n",
      "Epoch 61/100\n",
      "38/38 [==============================] - 2s 41ms/step - loss: 0.0020\n",
      "Epoch 62/100\n",
      "38/38 [==============================] - 2s 40ms/step - loss: 0.0023\n",
      "Epoch 63/100\n",
      "38/38 [==============================] - 2s 41ms/step - loss: 0.0021\n",
      "Epoch 64/100\n",
      "38/38 [==============================] - 1s 39ms/step - loss: 0.0021\n",
      "Epoch 65/100\n",
      "38/38 [==============================] - 1s 39ms/step - loss: 0.0018\n",
      "Epoch 66/100\n",
      "38/38 [==============================] - 1s 39ms/step - loss: 0.0022\n",
      "Epoch 67/100\n",
      "38/38 [==============================] - 1s 38ms/step - loss: 0.0018\n",
      "Epoch 68/100\n",
      "38/38 [==============================] - 1s 39ms/step - loss: 0.0019\n",
      "Epoch 69/100\n",
      "38/38 [==============================] - 1s 39ms/step - loss: 0.0020\n",
      "Epoch 70/100\n",
      "38/38 [==============================] - 2s 40ms/step - loss: 0.0018\n",
      "Epoch 71/100\n",
      "38/38 [==============================] - 1s 39ms/step - loss: 0.0018\n",
      "Epoch 72/100\n",
      "38/38 [==============================] - 2s 40ms/step - loss: 0.0020\n",
      "Epoch 73/100\n",
      "38/38 [==============================] - 1s 39ms/step - loss: 0.0018\n",
      "Epoch 74/100\n",
      "38/38 [==============================] - 1s 39ms/step - loss: 0.0016\n",
      "Epoch 75/100\n",
      "38/38 [==============================] - 2s 40ms/step - loss: 0.0017\n",
      "Epoch 76/100\n",
      "38/38 [==============================] - 2s 40ms/step - loss: 0.0017\n",
      "Epoch 77/100\n",
      "38/38 [==============================] - 2s 40ms/step - loss: 0.0016\n",
      "Epoch 78/100\n",
      "38/38 [==============================] - 2s 40ms/step - loss: 0.0017\n",
      "Epoch 79/100\n",
      "38/38 [==============================] - 2s 40ms/step - loss: 0.0017\n",
      "Epoch 80/100\n",
      "38/38 [==============================] - 2s 40ms/step - loss: 0.0019\n",
      "Epoch 81/100\n",
      "38/38 [==============================] - 2s 40ms/step - loss: 0.0016\n",
      "Epoch 82/100\n",
      "38/38 [==============================] - 2s 40ms/step - loss: 0.0018\n",
      "Epoch 83/100\n",
      "38/38 [==============================] - 2s 40ms/step - loss: 0.0017\n",
      "Epoch 84/100\n",
      "38/38 [==============================] - 2s 40ms/step - loss: 0.0015\n",
      "Epoch 85/100\n",
      "38/38 [==============================] - 1s 39ms/step - loss: 0.0016\n",
      "Epoch 86/100\n",
      "38/38 [==============================] - 2s 39ms/step - loss: 0.0017\n",
      "Epoch 87/100\n",
      "38/38 [==============================] - 2s 39ms/step - loss: 0.0016\n",
      "Epoch 88/100\n",
      "38/38 [==============================] - 1s 38ms/step - loss: 0.0020\n",
      "Epoch 89/100\n",
      "38/38 [==============================] - 1s 39ms/step - loss: 0.0017\n",
      "Epoch 90/100\n",
      "38/38 [==============================] - 1s 39ms/step - loss: 0.0018\n",
      "Epoch 91/100\n",
      "38/38 [==============================] - 1s 39ms/step - loss: 0.0016\n",
      "Epoch 92/100\n",
      "38/38 [==============================] - 2s 41ms/step - loss: 0.0015\n",
      "Epoch 93/100\n",
      "38/38 [==============================] - 2s 41ms/step - loss: 0.0017\n",
      "Epoch 94/100\n",
      "38/38 [==============================] - 2s 41ms/step - loss: 0.0015\n",
      "Epoch 95/100\n",
      "38/38 [==============================] - 1s 39ms/step - loss: 0.0015\n",
      "Epoch 96/100\n",
      "38/38 [==============================] - 1s 39ms/step - loss: 0.0016\n",
      "Epoch 97/100\n",
      "38/38 [==============================] - 2s 42ms/step - loss: 0.0014\n",
      "Epoch 98/100\n",
      "38/38 [==============================] - 2s 44ms/step - loss: 0.0017\n",
      "Epoch 99/100\n",
      "38/38 [==============================] - 2s 40ms/step - loss: 0.0014\n",
      "Epoch 100/100\n",
      "38/38 [==============================] - 2s 40ms/step - loss: 0.0014\n"
     ]
    },
    {
     "data": {
      "text/plain": [
       "<keras.callbacks.History at 0x1af980a6bf0>"
      ]
     },
     "execution_count": 18,
     "metadata": {},
     "output_type": "execute_result"
    }
   ],
   "source": [
    "RNN.fit(X_train, Y_train, epochs = 100, batch_size = 32)"
   ]
  },
  {
   "cell_type": "markdown",
   "metadata": {},
   "source": [
    "# Prediction"
   ]
  },
  {
   "cell_type": "code",
   "execution_count": 20,
   "metadata": {},
   "outputs": [],
   "source": [
    "dataset_test = pd.read_csv('Google_Stock_Price_Test.csv')\n",
    "actual_stock_price = dataset_test.iloc[:, 1:2].values"
   ]
  },
  {
   "cell_type": "markdown",
   "metadata": {},
   "source": [
    "Prepare inputs for prediction"
   ]
  },
  {
   "cell_type": "code",
   "execution_count": 23,
   "metadata": {},
   "outputs": [],
   "source": [
    "Prediction_input = pd.concat((dataset_train[\"Open\"],dataset_test[\"Open\"]), axis = 0)\n",
    "inputs = Prediction_input[len(Prediction_input) - len(dataset_test) - 60:].values"
   ]
  },
  {
   "cell_type": "code",
   "execution_count": 24,
   "metadata": {},
   "outputs": [
    {
     "data": {
      "text/plain": [
       "array([779.  , 779.66, 777.71, 786.66, 783.76, 781.22, 781.65, 779.8 ,\n",
       "       787.85, 798.24, 803.3 , 795.  , 804.9 , 816.68, 806.34, 801.  ,\n",
       "       808.35, 795.47, 782.89, 778.2 , 767.25, 750.66, 774.5 , 783.4 ,\n",
       "       779.94, 791.17, 756.54, 755.6 , 746.97, 755.2 , 766.92, 771.37,\n",
       "       762.61, 772.63, 767.73, 764.26, 760.  , 771.53, 770.07, 757.44,\n",
       "       744.59, 757.71, 764.73, 761.  , 772.48, 780.  , 785.04, 793.9 ,\n",
       "       797.4 , 797.34, 800.4 , 790.22, 796.76, 795.84, 792.36, 790.9 ,\n",
       "       790.68, 793.7 , 783.33, 782.75, 778.81, 788.36, 786.08, 795.26,\n",
       "       806.4 , 807.86, 805.  , 807.14, 807.48, 807.08, 805.81, 805.12,\n",
       "       806.91, 807.25, 822.3 , 829.62, 837.81, 834.71, 814.66, 796.86])"
      ]
     },
     "execution_count": 24,
     "metadata": {},
     "output_type": "execute_result"
    }
   ],
   "source": [
    "inputs"
   ]
  },
  {
   "cell_type": "code",
   "execution_count": 25,
   "metadata": {},
   "outputs": [
    {
     "data": {
      "text/plain": [
       "array([[779.  ],\n",
       "       [779.66],\n",
       "       [777.71],\n",
       "       [786.66],\n",
       "       [783.76],\n",
       "       [781.22],\n",
       "       [781.65],\n",
       "       [779.8 ],\n",
       "       [787.85],\n",
       "       [798.24],\n",
       "       [803.3 ],\n",
       "       [795.  ],\n",
       "       [804.9 ],\n",
       "       [816.68],\n",
       "       [806.34],\n",
       "       [801.  ],\n",
       "       [808.35],\n",
       "       [795.47],\n",
       "       [782.89],\n",
       "       [778.2 ],\n",
       "       [767.25],\n",
       "       [750.66],\n",
       "       [774.5 ],\n",
       "       [783.4 ],\n",
       "       [779.94],\n",
       "       [791.17],\n",
       "       [756.54],\n",
       "       [755.6 ],\n",
       "       [746.97],\n",
       "       [755.2 ],\n",
       "       [766.92],\n",
       "       [771.37],\n",
       "       [762.61],\n",
       "       [772.63],\n",
       "       [767.73],\n",
       "       [764.26],\n",
       "       [760.  ],\n",
       "       [771.53],\n",
       "       [770.07],\n",
       "       [757.44],\n",
       "       [744.59],\n",
       "       [757.71],\n",
       "       [764.73],\n",
       "       [761.  ],\n",
       "       [772.48],\n",
       "       [780.  ],\n",
       "       [785.04],\n",
       "       [793.9 ],\n",
       "       [797.4 ],\n",
       "       [797.34],\n",
       "       [800.4 ],\n",
       "       [790.22],\n",
       "       [796.76],\n",
       "       [795.84],\n",
       "       [792.36],\n",
       "       [790.9 ],\n",
       "       [790.68],\n",
       "       [793.7 ],\n",
       "       [783.33],\n",
       "       [782.75],\n",
       "       [778.81],\n",
       "       [788.36],\n",
       "       [786.08],\n",
       "       [795.26],\n",
       "       [806.4 ],\n",
       "       [807.86],\n",
       "       [805.  ],\n",
       "       [807.14],\n",
       "       [807.48],\n",
       "       [807.08],\n",
       "       [805.81],\n",
       "       [805.12],\n",
       "       [806.91],\n",
       "       [807.25],\n",
       "       [822.3 ],\n",
       "       [829.62],\n",
       "       [837.81],\n",
       "       [834.71],\n",
       "       [814.66],\n",
       "       [796.86]])"
      ]
     },
     "execution_count": 25,
     "metadata": {},
     "output_type": "execute_result"
    }
   ],
   "source": [
    "inputs = inputs.reshape(-1,1)\n",
    "inputs"
   ]
  },
  {
   "cell_type": "code",
   "execution_count": 26,
   "metadata": {},
   "outputs": [],
   "source": [
    "inputs = sc.transform(inputs)"
   ]
  },
  {
   "cell_type": "code",
   "execution_count": 27,
   "metadata": {},
   "outputs": [],
   "source": [
    "X_test = []\n",
    "for i in range(60, 80):\n",
    "    X_test.append(inputs[i-60:i, 0])\n",
    "X_test = np.array(X_test)\n",
    "X_test = np.reshape(X_test, (X_test.shape[0], X_test.shape[1], 1))"
   ]
  },
  {
   "cell_type": "code",
   "execution_count": 28,
   "metadata": {},
   "outputs": [
    {
     "name": "stdout",
     "output_type": "stream",
     "text": [
      "1/1 [==============================] - 1s 927ms/step\n"
     ]
    }
   ],
   "source": [
    "predicted_stock_price = RNN.predict(X_test)\n",
    "predicted_stock_price = sc.inverse_transform(predicted_stock_price)"
   ]
  },
  {
   "cell_type": "markdown",
   "metadata": {},
   "source": [
    "Visualizing Results"
   ]
  },
  {
   "cell_type": "code",
   "execution_count": 46,
   "metadata": {},
   "outputs": [
    {
     "data": {
      "image/png": "[encoded data removed]",
      "text/plain": [
       "<Figure size 1080x720 with 1 Axes>"
      ]
     },
     "metadata": {},
     "output_type": "display_data"
    }
   ],
   "source": [
    "plt.figure(figsize=(15,10))\n",
    "plt.plot(actual_stock_price, label = 'Real Google Stock Price')\n",
    "plt.plot(predicted_stock_price, ls = \"-.\", label = 'Predicted Google Stock Price')\n",
    "plt.style.use('ggplot')\n",
    "plt.title('Google Stock Price Prediction')\n",
    "plt.xlabel('Time')\n",
    "plt.ylabel('Google Stock Price')\n",
    "plt.legend()\n",
    "plt.show()"
   ]
  },
  {
   "cell_type": "markdown",
   "metadata": {},
   "source": [
    "+ Lagging - Model doesn't react fast to non-linear changes(spikes) - Based on Brownian Motion.\n",
    "+ Model follows smooth changes(upward/downward/stable) properly."
   ]
  }
 ],
 "metadata": {
  "kernelspec": {
   "display_name": "Python 3",
   "language": "python",
   "name": "python3"
  },
  "language_info": {
   "codemirror_mode": {
    "name": "ipython",
    "version": 3
   },
   "file_extension": ".py",
   "mimetype": "text/x-python",
   "name": "python",
   "nbconvert_exporter": "python",
   "pygments_lexer": "ipython3",
   "version": "3.10.6"
  },
  "orig_nbformat": 4
 },
 "nbformat": 4,
 "nbformat_minor": 2
}
